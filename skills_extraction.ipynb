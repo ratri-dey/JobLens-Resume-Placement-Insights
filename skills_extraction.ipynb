{
 "cells": [
  {
   "cell_type": "markdown",
   "id": "93d23276-0ebe-4c01-b9ed-1b2d66372469",
   "metadata": {},
   "source": [
    "Step 1: Load Students Data"
   ]
  },
  {
   "cell_type": "code",
   "execution_count": 11,
   "id": "d032d0da-117c-4189-99b6-a29d417751e7",
   "metadata": {},
   "outputs": [
    {
     "name": "stdout",
     "output_type": "stream",
     "text": [
      "  StudentID   Name Department  CGPA               Resume_File\n",
      "0     ST001   Riya        CSE   8.2   resumes/resume_riya.txt\n",
      "1     ST002  Arjun        ECE   7.5  resumes/resume_arjun.txt\n",
      "2     ST003  Sneha         IT   8.0  resumes/resume_sneha.txt\n",
      "3     ST004   Aman        CSE   6.8   resumes/resume_aman.txt\n",
      "4     ST005  Priya         EE   7.9  resumes/resume_priya.txt\n"
     ]
    }
   ],
   "source": [
    "import pandas as pd\n",
    "df = pd.read_csv('C:\\Jupytersafe\\students - Sheet1.csv', skiprows=1) \n",
    "print(df.head())"
   ]
  },
  {
   "cell_type": "markdown",
   "id": "c07d3d51-290f-461e-8f43-0d7b349bc693",
   "metadata": {},
   "source": [
    "Step 2: Extract Resume Skills"
   ]
  },
  {
   "cell_type": "code",
   "execution_count": 6,
   "id": "3ef7ea64-cdc6-4f31-b3ff-401cca0b61d1",
   "metadata": {},
   "outputs": [],
   "source": [
    "skills = ['python', 'sql', 'excel', 'power bi', 'machine learning', 'java', 'c++', 'c']\n"
   ]
  },
  {
   "cell_type": "code",
   "execution_count": 7,
   "id": "76e3abbe-7639-48bd-a92a-d8cdc3b82854",
   "metadata": {},
   "outputs": [
    {
     "name": "stdout",
     "output_type": "stream",
     "text": [
      "Index(['StudentID', 'Name', 'Department', 'CGPA', 'Resume_File'], dtype='object')\n"
     ]
    }
   ],
   "source": [
    "print(df.columns)\n"
   ]
  },
  {
   "cell_type": "markdown",
   "id": "355739f0-ad51-47de-9828-b00899122700",
   "metadata": {},
   "source": [
    "Step 3: Score Resumes"
   ]
  },
  {
   "cell_type": "code",
   "execution_count": 8,
   "id": "59952ff2-1436-449d-b520-99e839a11d3b",
   "metadata": {},
   "outputs": [],
   "source": [
    "import os\n",
    "\n",
    "extracted_skills = []\n",
    "resume_scores = []\n",
    "\n",
    "for index, row in df.iterrows():\n",
    "    resume_file = row['Resume_File']  # e.g., \"resume_riya.txt\"\n",
    "    resume_path = os.path.join('C:\\\\Jupytersafe\\\\resumes', resume_file)\n",
    "\n",
    "    try:\n",
    "        with open(resume_path, 'r', encoding='utf-8') as file:\n",
    "            content = file.read().lower()\n",
    "            found = [skill for skill in skills if skill in content]\n",
    "\n",
    "            extracted_skills.append(', '.join(found))\n",
    "            resume_scores.append(len(found) * 10)\n",
    "\n",
    "    except FileNotFoundError:\n",
    "        extracted_skills.append('')\n",
    "        resume_scores.append(0)\n"
   ]
  },
  {
   "cell_type": "code",
   "execution_count": 9,
   "id": "427f82e6-5391-40c0-8d5b-3128bd568640",
   "metadata": {},
   "outputs": [],
   "source": [
    "df['ExtractedSkills'] = extracted_skills\n",
    "df['ResumeScore'] = resume_scores\n"
   ]
  },
  {
   "cell_type": "code",
   "execution_count": 10,
   "id": "52f4b3a6-a0f8-4e66-a6e8-fb5e788a4dbb",
   "metadata": {},
   "outputs": [
    {
     "name": "stdout",
     "output_type": "stream",
     "text": [
      "✅ Done! Saved as students_updated.xlsx\n"
     ]
    }
   ],
   "source": [
    "df.to_excel('C:\\\\Jupytersafe\\\\students_updated.xlsx', index=False)\n",
    "print(\"✅ Done! Saved as students_updated.xlsx\")\n"
   ]
  },
  {
   "cell_type": "markdown",
   "id": "7fa966dd-8349-4a85-a281-805ef82a0712",
   "metadata": {},
   "source": [
    "Step 4: Load Recruiter Feedback Data"
   ]
  },
  {
   "cell_type": "code",
   "execution_count": 13,
   "id": "473d726a-8fc2-4222-90ef-6b1ef8ccf8a1",
   "metadata": {},
   "outputs": [
    {
     "name": "stdout",
     "output_type": "stream",
     "text": [
      "Index(['StudentID', 'ResumeScore', 'Feedback'], dtype='object')\n"
     ]
    },
    {
     "data": {
      "text/html": [
       "<div>\n",
       "<style scoped>\n",
       "    .dataframe tbody tr th:only-of-type {\n",
       "        vertical-align: middle;\n",
       "    }\n",
       "\n",
       "    .dataframe tbody tr th {\n",
       "        vertical-align: top;\n",
       "    }\n",
       "\n",
       "    .dataframe thead th {\n",
       "        text-align: right;\n",
       "    }\n",
       "</style>\n",
       "<table border=\"1\" class=\"dataframe\">\n",
       "  <thead>\n",
       "    <tr style=\"text-align: right;\">\n",
       "      <th></th>\n",
       "      <th>StudentID</th>\n",
       "      <th>ResumeScore</th>\n",
       "      <th>Feedback</th>\n",
       "    </tr>\n",
       "  </thead>\n",
       "  <tbody>\n",
       "    <tr>\n",
       "      <th>0</th>\n",
       "      <td>ST001</td>\n",
       "      <td>82</td>\n",
       "      <td>Good Python base</td>\n",
       "    </tr>\n",
       "    <tr>\n",
       "      <th>1</th>\n",
       "      <td>ST002</td>\n",
       "      <td>55</td>\n",
       "      <td>Lacks SQL</td>\n",
       "    </tr>\n",
       "    <tr>\n",
       "      <th>2</th>\n",
       "      <td>ST003</td>\n",
       "      <td>74</td>\n",
       "      <td>Strong in Excel &amp; Comm.</td>\n",
       "    </tr>\n",
       "    <tr>\n",
       "      <th>3</th>\n",
       "      <td>ST004</td>\n",
       "      <td>40</td>\n",
       "      <td>Lacks modern tech stack</td>\n",
       "    </tr>\n",
       "    <tr>\n",
       "      <th>4</th>\n",
       "      <td>ST005</td>\n",
       "      <td>78</td>\n",
       "      <td>Great with SQL &amp; Python</td>\n",
       "    </tr>\n",
       "  </tbody>\n",
       "</table>\n",
       "</div>"
      ],
      "text/plain": [
       "  StudentID  ResumeScore                 Feedback\n",
       "0     ST001           82         Good Python base\n",
       "1     ST002           55                Lacks SQL\n",
       "2     ST003           74  Strong in Excel & Comm.\n",
       "3     ST004           40  Lacks modern tech stack\n",
       "4     ST005           78  Great with SQL & Python"
      ]
     },
     "execution_count": 13,
     "metadata": {},
     "output_type": "execute_result"
    }
   ],
   "source": [
    "feedback_df = pd.read_csv('C:\\\\Jupytersafe\\\\recruiter_feedback.xlsx - Sheet1.csv')\n",
    "\n",
    "# Check the column names and first few rows\n",
    "print(feedback_df.columns)\n",
    "feedback_df.head()\n"
   ]
  },
  {
   "cell_type": "code",
   "execution_count": 15,
   "id": "a71965fc-b367-4036-8d2e-adbe305a7380",
   "metadata": {},
   "outputs": [
    {
     "name": "stdout",
     "output_type": "stream",
     "text": [
      "Index(['StudentID', 'ResumeScore', 'Feedback'], dtype='object')\n"
     ]
    }
   ],
   "source": [
    "print(feedback_df.columns)"
   ]
  },
  {
   "cell_type": "code",
   "execution_count": 17,
   "id": "d8b375d1-96cd-4aeb-9ceb-442a3a7431e9",
   "metadata": {},
   "outputs": [
    {
     "data": {
      "text/html": [
       "<div>\n",
       "<style scoped>\n",
       "    .dataframe tbody tr th:only-of-type {\n",
       "        vertical-align: middle;\n",
       "    }\n",
       "\n",
       "    .dataframe tbody tr th {\n",
       "        vertical-align: top;\n",
       "    }\n",
       "\n",
       "    .dataframe thead th {\n",
       "        text-align: right;\n",
       "    }\n",
       "</style>\n",
       "<table border=\"1\" class=\"dataframe\">\n",
       "  <thead>\n",
       "    <tr style=\"text-align: right;\">\n",
       "      <th></th>\n",
       "      <th>StudentID</th>\n",
       "      <th>Name</th>\n",
       "      <th>Department</th>\n",
       "      <th>CGPA</th>\n",
       "      <th>Resume_File</th>\n",
       "      <th>ResumeScore</th>\n",
       "      <th>Feedback</th>\n",
       "    </tr>\n",
       "  </thead>\n",
       "  <tbody>\n",
       "    <tr>\n",
       "      <th>0</th>\n",
       "      <td>ST001</td>\n",
       "      <td>Riya</td>\n",
       "      <td>CSE</td>\n",
       "      <td>8.2</td>\n",
       "      <td>resumes/resume_riya.txt</td>\n",
       "      <td>82</td>\n",
       "      <td>Good Python base</td>\n",
       "    </tr>\n",
       "    <tr>\n",
       "      <th>1</th>\n",
       "      <td>ST002</td>\n",
       "      <td>Arjun</td>\n",
       "      <td>ECE</td>\n",
       "      <td>7.5</td>\n",
       "      <td>resumes/resume_arjun.txt</td>\n",
       "      <td>55</td>\n",
       "      <td>Lacks SQL</td>\n",
       "    </tr>\n",
       "    <tr>\n",
       "      <th>2</th>\n",
       "      <td>ST003</td>\n",
       "      <td>Sneha</td>\n",
       "      <td>IT</td>\n",
       "      <td>8.0</td>\n",
       "      <td>resumes/resume_sneha.txt</td>\n",
       "      <td>74</td>\n",
       "      <td>Strong in Excel &amp; Comm.</td>\n",
       "    </tr>\n",
       "    <tr>\n",
       "      <th>3</th>\n",
       "      <td>ST004</td>\n",
       "      <td>Aman</td>\n",
       "      <td>CSE</td>\n",
       "      <td>6.8</td>\n",
       "      <td>resumes/resume_aman.txt</td>\n",
       "      <td>40</td>\n",
       "      <td>Lacks modern tech stack</td>\n",
       "    </tr>\n",
       "    <tr>\n",
       "      <th>4</th>\n",
       "      <td>ST005</td>\n",
       "      <td>Priya</td>\n",
       "      <td>EE</td>\n",
       "      <td>7.9</td>\n",
       "      <td>resumes/resume_priya.txt</td>\n",
       "      <td>78</td>\n",
       "      <td>Great with SQL &amp; Python</td>\n",
       "    </tr>\n",
       "  </tbody>\n",
       "</table>\n",
       "</div>"
      ],
      "text/plain": [
       "  StudentID   Name Department  CGPA               Resume_File  ResumeScore  \\\n",
       "0     ST001   Riya        CSE   8.2   resumes/resume_riya.txt           82   \n",
       "1     ST002  Arjun        ECE   7.5  resumes/resume_arjun.txt           55   \n",
       "2     ST003  Sneha         IT   8.0  resumes/resume_sneha.txt           74   \n",
       "3     ST004   Aman        CSE   6.8   resumes/resume_aman.txt           40   \n",
       "4     ST005  Priya         EE   7.9  resumes/resume_priya.txt           78   \n",
       "\n",
       "                  Feedback  \n",
       "0         Good Python base  \n",
       "1                Lacks SQL  \n",
       "2  Strong in Excel & Comm.  \n",
       "3  Lacks modern tech stack  \n",
       "4  Great with SQL & Python  "
      ]
     },
     "execution_count": 17,
     "metadata": {},
     "output_type": "execute_result"
    }
   ],
   "source": [
    "# Merge on a common key — for example, student_id\n",
    "combined_df = pd.merge(df, feedback_df, on='StudentID', how='left')\n",
    "\n",
    "# Show result\n",
    "combined_df.head()"
   ]
  },
  {
   "cell_type": "code",
   "execution_count": 19,
   "id": "3c12d490-1e09-4b84-9595-b69b383da259",
   "metadata": {},
   "outputs": [
    {
     "name": "stdout",
     "output_type": "stream",
     "text": [
      "✅ Merged file saved as students_with_feedback.xlsx\n"
     ]
    }
   ],
   "source": [
    "combined_df.to_excel('students_with_feedback.xlsx', index=False)\n",
    "print(\"✅ Merged file saved as students_with_feedback.xlsx\")"
   ]
  },
  {
   "cell_type": "code",
   "execution_count": 20,
   "id": "8cdfbd42-752b-45ff-a071-7872db2e5907",
   "metadata": {},
   "outputs": [
    {
     "data": {
      "text/html": [
       "<div>\n",
       "<style scoped>\n",
       "    .dataframe tbody tr th:only-of-type {\n",
       "        vertical-align: middle;\n",
       "    }\n",
       "\n",
       "    .dataframe tbody tr th {\n",
       "        vertical-align: top;\n",
       "    }\n",
       "\n",
       "    .dataframe thead th {\n",
       "        text-align: right;\n",
       "    }\n",
       "</style>\n",
       "<table border=\"1\" class=\"dataframe\">\n",
       "  <thead>\n",
       "    <tr style=\"text-align: right;\">\n",
       "      <th></th>\n",
       "      <th>StudentID</th>\n",
       "      <th>Name</th>\n",
       "      <th>Department</th>\n",
       "      <th>CGPA</th>\n",
       "      <th>Resume_File</th>\n",
       "      <th>ResumeScore</th>\n",
       "      <th>Feedback</th>\n",
       "    </tr>\n",
       "  </thead>\n",
       "  <tbody>\n",
       "    <tr>\n",
       "      <th>0</th>\n",
       "      <td>ST001</td>\n",
       "      <td>Riya</td>\n",
       "      <td>CSE</td>\n",
       "      <td>8.2</td>\n",
       "      <td>resumes/resume_riya.txt</td>\n",
       "      <td>82</td>\n",
       "      <td>Good Python base</td>\n",
       "    </tr>\n",
       "    <tr>\n",
       "      <th>1</th>\n",
       "      <td>ST002</td>\n",
       "      <td>Arjun</td>\n",
       "      <td>ECE</td>\n",
       "      <td>7.5</td>\n",
       "      <td>resumes/resume_arjun.txt</td>\n",
       "      <td>55</td>\n",
       "      <td>Lacks SQL</td>\n",
       "    </tr>\n",
       "    <tr>\n",
       "      <th>2</th>\n",
       "      <td>ST003</td>\n",
       "      <td>Sneha</td>\n",
       "      <td>IT</td>\n",
       "      <td>8.0</td>\n",
       "      <td>resumes/resume_sneha.txt</td>\n",
       "      <td>74</td>\n",
       "      <td>Strong in Excel &amp; Comm.</td>\n",
       "    </tr>\n",
       "    <tr>\n",
       "      <th>3</th>\n",
       "      <td>ST004</td>\n",
       "      <td>Aman</td>\n",
       "      <td>CSE</td>\n",
       "      <td>6.8</td>\n",
       "      <td>resumes/resume_aman.txt</td>\n",
       "      <td>40</td>\n",
       "      <td>Lacks modern tech stack</td>\n",
       "    </tr>\n",
       "    <tr>\n",
       "      <th>4</th>\n",
       "      <td>ST005</td>\n",
       "      <td>Priya</td>\n",
       "      <td>EE</td>\n",
       "      <td>7.9</td>\n",
       "      <td>resumes/resume_priya.txt</td>\n",
       "      <td>78</td>\n",
       "      <td>Great with SQL &amp; Python</td>\n",
       "    </tr>\n",
       "  </tbody>\n",
       "</table>\n",
       "</div>"
      ],
      "text/plain": [
       "  StudentID   Name Department  CGPA               Resume_File  ResumeScore  \\\n",
       "0     ST001   Riya        CSE   8.2   resumes/resume_riya.txt           82   \n",
       "1     ST002  Arjun        ECE   7.5  resumes/resume_arjun.txt           55   \n",
       "2     ST003  Sneha         IT   8.0  resumes/resume_sneha.txt           74   \n",
       "3     ST004   Aman        CSE   6.8   resumes/resume_aman.txt           40   \n",
       "4     ST005  Priya         EE   7.9  resumes/resume_priya.txt           78   \n",
       "\n",
       "                  Feedback  \n",
       "0         Good Python base  \n",
       "1                Lacks SQL  \n",
       "2  Strong in Excel & Comm.  \n",
       "3  Lacks modern tech stack  \n",
       "4  Great with SQL & Python  "
      ]
     },
     "execution_count": 20,
     "metadata": {},
     "output_type": "execute_result"
    }
   ],
   "source": [
    "import pandas as pd\n",
    "\n",
    "# Load merged file\n",
    "df = pd.read_excel('students_with_feedback.xlsx')\n",
    "df.head()\n"
   ]
  },
  {
   "cell_type": "code",
   "execution_count": 32,
   "id": "f0691ea7-ee07-4648-ad3f-8852905f71ee",
   "metadata": {},
   "outputs": [
    {
     "data": {
      "text/plain": [
       "Index(['StudentID', 'Name', 'Department', 'CGPA', 'Resume_File', 'ResumeScore',\n",
       "       'Feedback'],\n",
       "      dtype='object')"
      ]
     },
     "execution_count": 32,
     "metadata": {},
     "output_type": "execute_result"
    }
   ],
   "source": [
    "df.columns"
   ]
  },
  {
   "cell_type": "code",
   "execution_count": 23,
   "id": "90d9bc64-e92d-4ca7-9202-0596c363e983",
   "metadata": {},
   "outputs": [],
   "source": [
    "\n",
    "students_df = pd.read_excel('students_with_feedback.xlsx')  # with resume scores\n",
    "placement_df = pd.read_csv('placements.xlsx - Sheet1.csv')\n"
   ]
  },
  {
   "cell_type": "code",
   "execution_count": 36,
   "id": "d2147ea4-0a17-4c47-aed5-6d86971ace46",
   "metadata": {},
   "outputs": [
    {
     "data": {
      "text/html": [
       "<div>\n",
       "<style scoped>\n",
       "    .dataframe tbody tr th:only-of-type {\n",
       "        vertical-align: middle;\n",
       "    }\n",
       "\n",
       "    .dataframe tbody tr th {\n",
       "        vertical-align: top;\n",
       "    }\n",
       "\n",
       "    .dataframe thead th {\n",
       "        text-align: right;\n",
       "    }\n",
       "</style>\n",
       "<table border=\"1\" class=\"dataframe\">\n",
       "  <thead>\n",
       "    <tr style=\"text-align: right;\">\n",
       "      <th></th>\n",
       "      <th>StudentID</th>\n",
       "      <th>Name</th>\n",
       "      <th>Department</th>\n",
       "      <th>CGPA</th>\n",
       "      <th>Resume_File</th>\n",
       "      <th>ResumeScore</th>\n",
       "      <th>Feedback</th>\n",
       "      <th>Company</th>\n",
       "      <th>JobRole</th>\n",
       "      <th>InterviewStatus</th>\n",
       "      <th>Salary</th>\n",
       "    </tr>\n",
       "  </thead>\n",
       "  <tbody>\n",
       "    <tr>\n",
       "      <th>0</th>\n",
       "      <td>ST001</td>\n",
       "      <td>Riya</td>\n",
       "      <td>CSE</td>\n",
       "      <td>8.2</td>\n",
       "      <td>resumes/resume_riya.txt</td>\n",
       "      <td>82</td>\n",
       "      <td>Good Python base</td>\n",
       "      <td>TCS</td>\n",
       "      <td>Data Analyst</td>\n",
       "      <td>Selected</td>\n",
       "      <td>6.5</td>\n",
       "    </tr>\n",
       "    <tr>\n",
       "      <th>1</th>\n",
       "      <td>ST002</td>\n",
       "      <td>Arjun</td>\n",
       "      <td>ECE</td>\n",
       "      <td>7.5</td>\n",
       "      <td>resumes/resume_arjun.txt</td>\n",
       "      <td>55</td>\n",
       "      <td>Lacks SQL</td>\n",
       "      <td>Infosys</td>\n",
       "      <td>System Engineer</td>\n",
       "      <td>Rejected</td>\n",
       "      <td>5.0</td>\n",
       "    </tr>\n",
       "    <tr>\n",
       "      <th>2</th>\n",
       "      <td>ST003</td>\n",
       "      <td>Sneha</td>\n",
       "      <td>IT</td>\n",
       "      <td>8.0</td>\n",
       "      <td>resumes/resume_sneha.txt</td>\n",
       "      <td>74</td>\n",
       "      <td>Strong in Excel &amp; Comm.</td>\n",
       "      <td>Wipro</td>\n",
       "      <td>Business Analyst</td>\n",
       "      <td>Selected</td>\n",
       "      <td>5.8</td>\n",
       "    </tr>\n",
       "    <tr>\n",
       "      <th>3</th>\n",
       "      <td>ST004</td>\n",
       "      <td>Aman</td>\n",
       "      <td>CSE</td>\n",
       "      <td>6.8</td>\n",
       "      <td>resumes/resume_aman.txt</td>\n",
       "      <td>40</td>\n",
       "      <td>Lacks modern tech stack</td>\n",
       "      <td>Capgemini</td>\n",
       "      <td>Backend Developer</td>\n",
       "      <td>Rejected</td>\n",
       "      <td>4.5</td>\n",
       "    </tr>\n",
       "    <tr>\n",
       "      <th>4</th>\n",
       "      <td>ST005</td>\n",
       "      <td>Priya</td>\n",
       "      <td>EE</td>\n",
       "      <td>7.9</td>\n",
       "      <td>resumes/resume_priya.txt</td>\n",
       "      <td>78</td>\n",
       "      <td>Great with SQL &amp; Python</td>\n",
       "      <td>Accenture</td>\n",
       "      <td>Data Engineer</td>\n",
       "      <td>Selected</td>\n",
       "      <td>6.2</td>\n",
       "    </tr>\n",
       "  </tbody>\n",
       "</table>\n",
       "</div>"
      ],
      "text/plain": [
       "  StudentID   Name Department  CGPA               Resume_File  ResumeScore  \\\n",
       "0     ST001   Riya        CSE   8.2   resumes/resume_riya.txt           82   \n",
       "1     ST002  Arjun        ECE   7.5  resumes/resume_arjun.txt           55   \n",
       "2     ST003  Sneha         IT   8.0  resumes/resume_sneha.txt           74   \n",
       "3     ST004   Aman        CSE   6.8   resumes/resume_aman.txt           40   \n",
       "4     ST005  Priya         EE   7.9  resumes/resume_priya.txt           78   \n",
       "\n",
       "                  Feedback    Company            JobRole InterviewStatus  \\\n",
       "0         Good Python base        TCS       Data Analyst        Selected   \n",
       "1                Lacks SQL    Infosys    System Engineer        Rejected   \n",
       "2  Strong in Excel & Comm.      Wipro   Business Analyst        Selected   \n",
       "3  Lacks modern tech stack  Capgemini  Backend Developer        Rejected   \n",
       "4  Great with SQL & Python  Accenture      Data Engineer        Selected   \n",
       "\n",
       "   Salary  \n",
       "0     6.5  \n",
       "1     5.0  \n",
       "2     5.8  \n",
       "3     4.5  \n",
       "4     6.2  "
      ]
     },
     "execution_count": 36,
     "metadata": {},
     "output_type": "execute_result"
    }
   ],
   "source": [
    "# Merge student data with placement data\n",
    "final_df = pd.merge(students_df, placement_df, on='StudentID', how='left')\n",
    "final_df.head()\n"
   ]
  },
  {
   "cell_type": "code",
   "execution_count": 44,
   "id": "5e364db7-3350-4729-9fb0-1f08f28b4c96",
   "metadata": {},
   "outputs": [
    {
     "name": "stdout",
     "output_type": "stream",
     "text": [
      "✅ Merged file saved as final_feedback.xlsx\n"
     ]
    }
   ],
   "source": [
    "final_df.to_excel('final_feedback.xlsx', index=False)\n",
    "print(\"✅ Merged file saved as final_feedback.xlsx\")"
   ]
  },
  {
   "cell_type": "code",
   "execution_count": 46,
   "id": "c59a0cd3-3a4f-484f-becf-0cd7e6fa2519",
   "metadata": {},
   "outputs": [
    {
     "data": {
      "text/html": [
       "<div>\n",
       "<style scoped>\n",
       "    .dataframe tbody tr th:only-of-type {\n",
       "        vertical-align: middle;\n",
       "    }\n",
       "\n",
       "    .dataframe tbody tr th {\n",
       "        vertical-align: top;\n",
       "    }\n",
       "\n",
       "    .dataframe thead th {\n",
       "        text-align: right;\n",
       "    }\n",
       "</style>\n",
       "<table border=\"1\" class=\"dataframe\">\n",
       "  <thead>\n",
       "    <tr style=\"text-align: right;\">\n",
       "      <th></th>\n",
       "      <th>StudentID</th>\n",
       "      <th>Name</th>\n",
       "      <th>Department</th>\n",
       "      <th>CGPA</th>\n",
       "      <th>Resume_File</th>\n",
       "      <th>ResumeScore</th>\n",
       "      <th>Feedback</th>\n",
       "      <th>Company</th>\n",
       "      <th>JobRole</th>\n",
       "      <th>InterviewStatus</th>\n",
       "      <th>Salary</th>\n",
       "    </tr>\n",
       "  </thead>\n",
       "  <tbody>\n",
       "    <tr>\n",
       "      <th>0</th>\n",
       "      <td>ST001</td>\n",
       "      <td>Riya</td>\n",
       "      <td>CSE</td>\n",
       "      <td>8.2</td>\n",
       "      <td>resumes/resume_riya.txt</td>\n",
       "      <td>82</td>\n",
       "      <td>Good Python base</td>\n",
       "      <td>TCS</td>\n",
       "      <td>Data Analyst</td>\n",
       "      <td>Selected</td>\n",
       "      <td>6.5</td>\n",
       "    </tr>\n",
       "    <tr>\n",
       "      <th>1</th>\n",
       "      <td>ST002</td>\n",
       "      <td>Arjun</td>\n",
       "      <td>ECE</td>\n",
       "      <td>7.5</td>\n",
       "      <td>resumes/resume_arjun.txt</td>\n",
       "      <td>55</td>\n",
       "      <td>Lacks SQL</td>\n",
       "      <td>Infosys</td>\n",
       "      <td>System Engineer</td>\n",
       "      <td>Rejected</td>\n",
       "      <td>5.0</td>\n",
       "    </tr>\n",
       "    <tr>\n",
       "      <th>2</th>\n",
       "      <td>ST003</td>\n",
       "      <td>Sneha</td>\n",
       "      <td>IT</td>\n",
       "      <td>8.0</td>\n",
       "      <td>resumes/resume_sneha.txt</td>\n",
       "      <td>74</td>\n",
       "      <td>Strong in Excel &amp; Comm.</td>\n",
       "      <td>Wipro</td>\n",
       "      <td>Business Analyst</td>\n",
       "      <td>Selected</td>\n",
       "      <td>5.8</td>\n",
       "    </tr>\n",
       "    <tr>\n",
       "      <th>3</th>\n",
       "      <td>ST004</td>\n",
       "      <td>Aman</td>\n",
       "      <td>CSE</td>\n",
       "      <td>6.8</td>\n",
       "      <td>resumes/resume_aman.txt</td>\n",
       "      <td>40</td>\n",
       "      <td>Lacks modern tech stack</td>\n",
       "      <td>Capgemini</td>\n",
       "      <td>Backend Developer</td>\n",
       "      <td>Rejected</td>\n",
       "      <td>4.5</td>\n",
       "    </tr>\n",
       "    <tr>\n",
       "      <th>4</th>\n",
       "      <td>ST005</td>\n",
       "      <td>Priya</td>\n",
       "      <td>EE</td>\n",
       "      <td>7.9</td>\n",
       "      <td>resumes/resume_priya.txt</td>\n",
       "      <td>78</td>\n",
       "      <td>Great with SQL &amp; Python</td>\n",
       "      <td>Accenture</td>\n",
       "      <td>Data Engineer</td>\n",
       "      <td>Selected</td>\n",
       "      <td>6.2</td>\n",
       "    </tr>\n",
       "  </tbody>\n",
       "</table>\n",
       "</div>"
      ],
      "text/plain": [
       "  StudentID   Name Department  CGPA               Resume_File  ResumeScore  \\\n",
       "0     ST001   Riya        CSE   8.2   resumes/resume_riya.txt           82   \n",
       "1     ST002  Arjun        ECE   7.5  resumes/resume_arjun.txt           55   \n",
       "2     ST003  Sneha         IT   8.0  resumes/resume_sneha.txt           74   \n",
       "3     ST004   Aman        CSE   6.8   resumes/resume_aman.txt           40   \n",
       "4     ST005  Priya         EE   7.9  resumes/resume_priya.txt           78   \n",
       "\n",
       "                  Feedback    Company            JobRole InterviewStatus  \\\n",
       "0         Good Python base        TCS       Data Analyst        Selected   \n",
       "1                Lacks SQL    Infosys    System Engineer        Rejected   \n",
       "2  Strong in Excel & Comm.      Wipro   Business Analyst        Selected   \n",
       "3  Lacks modern tech stack  Capgemini  Backend Developer        Rejected   \n",
       "4  Great with SQL & Python  Accenture      Data Engineer        Selected   \n",
       "\n",
       "   Salary  \n",
       "0     6.5  \n",
       "1     5.0  \n",
       "2     5.8  \n",
       "3     4.5  \n",
       "4     6.2  "
      ]
     },
     "execution_count": 46,
     "metadata": {},
     "output_type": "execute_result"
    }
   ],
   "source": [
    "final_df.head()"
   ]
  },
  {
   "cell_type": "code",
   "execution_count": 53,
   "id": "826f291c-f39f-4377-bbc5-2023d31a4625",
   "metadata": {},
   "outputs": [
    {
     "name": "stdout",
     "output_type": "stream",
     "text": [
      "InterviewStatus  Rejected  Selected\n",
      "Department                         \n",
      "CSE                   2.0       2.0\n",
      "ECE                   1.0       1.0\n",
      "EE                    0.0       1.0\n",
      "IT                    0.0       2.0\n",
      "ME                    1.0       0.0\n",
      "InterviewStatus\n",
      "Rejected    45.75\n",
      "Selected    79.00\n",
      "Name: ResumeScore, dtype: float64\n",
      "JobRole\n",
      "ML Engineer           12.00\n",
      "Data Analyst           6.25\n",
      "Data Engineer          6.20\n",
      "Business Analyst       5.80\n",
      "System Engineer        5.00\n",
      "Backend Developer      4.50\n",
      "Frontend Developer     4.50\n",
      "QA Tester              4.20\n",
      "Support Executive      4.00\n",
      "Name: Salary, dtype: float64\n"
     ]
    }
   ],
   "source": [
    "# Placement rate by department\n",
    "placement_by_dept = final_df.groupby('Department')['InterviewStatus'].value_counts().unstack().fillna(0)\n",
    "\n",
    "# Avg Resume Score vs Placement\n",
    "avg_resume = final_df.groupby('InterviewStatus')['ResumeScore'].mean()\n",
    "\n",
    "# Avg Salary by Role\n",
    "salary_by_role = final_df.groupby('JobRole')['Salary'].mean().sort_values(ascending=False)\n",
    "\n",
    "print(placement_by_dept)\n",
    "print(avg_resume)\n",
    "print(salary_by_role)\n",
    "\n"
   ]
  },
  {
   "cell_type": "code",
   "execution_count": null,
   "id": "62b3898d-67d1-475c-9c70-674fb3035df6",
   "metadata": {},
   "outputs": [],
   "source": []
  }
 ],
 "metadata": {
  "kernelspec": {
   "display_name": "Python 3 (ipykernel)",
   "language": "python",
   "name": "python3"
  },
  "language_info": {
   "codemirror_mode": {
    "name": "ipython",
    "version": 3
   },
   "file_extension": ".py",
   "mimetype": "text/x-python",
   "name": "python",
   "nbconvert_exporter": "python",
   "pygments_lexer": "ipython3",
   "version": "3.13.5"
  }
 },
 "nbformat": 4,
 "nbformat_minor": 5
}
